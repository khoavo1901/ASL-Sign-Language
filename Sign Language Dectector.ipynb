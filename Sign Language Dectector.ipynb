{
 "cells": [
  {
   "cell_type": "code",
   "execution_count": 1,
   "id": "36f150b8",
   "metadata": {},
   "outputs": [],
   "source": [
    "import cv2\n",
    "import os\n",
    "import torch, torchvision\n",
    "from torch import nn\n",
    "import torch.nn.functional as F\n",
    "from torchvision.datasets import ImageFolder\n",
    "from PIL import Image\n",
    "import torchvision.transforms as transforms\n",
    "from tqdm import tqdm\n",
    "import matplotlib.pyplot as plt\n",
    "from torchinfo import summary\n",
    "import numpy as np\n",
    "import pandas as pd\n",
    "from sklearn.preprocessing import LabelBinarizer\n",
    "from torch.utils.data import TensorDataset, DataLoader"
   ]
  },
  {
   "cell_type": "code",
   "execution_count": 2,
   "id": "f37fb272",
   "metadata": {},
   "outputs": [],
   "source": [
    "# !pip install git+https://github.com/davidbau/baukit"
   ]
  },
  {
   "cell_type": "code",
   "execution_count": 3,
   "id": "63f1c5ba",
   "metadata": {},
   "outputs": [],
   "source": [
    "from baukit import show"
   ]
  },
  {
   "cell_type": "markdown",
   "id": "64a20e96",
   "metadata": {},
   "source": [
    "## Preprocessing Data"
   ]
  },
  {
   "cell_type": "code",
   "execution_count": 4,
   "id": "141655d0",
   "metadata": {},
   "outputs": [],
   "source": [
    "train_df = pd.read_csv(\"sign_mnist_train/sign_mnist_train.csv\")\n",
    "test_df = pd.read_csv(\"sign_mnist_test/sign_mnist_test.csv\")"
   ]
  },
  {
   "cell_type": "code",
   "execution_count": 5,
   "id": "69adf991",
   "metadata": {},
   "outputs": [],
   "source": [
    "def dataframe_to_nparray(train_df, test_df):\n",
    "    train_df1 = train_df.copy(deep = True)\n",
    "    test_df1 = test_df.copy(deep = True)\n",
    "    train_images = train_df1.iloc[:, 1:].to_numpy(dtype = 'float32')\n",
    "    test_images = test_df1.iloc[:, 1:].to_numpy(dtype = 'float32')\n",
    "    return train_images,test_images"
   ]
  },
  {
   "cell_type": "code",
   "execution_count": 6,
   "id": "2e9da0f6",
   "metadata": {},
   "outputs": [],
   "source": [
    "train_img, test_img = dataframe_to_nparray(train_df, test_df)\n",
    "train_labels = train_df['label'].values\n",
    "test_labels = test_df['label'].values"
   ]
  },
  {
   "cell_type": "code",
   "execution_count": 7,
   "id": "92a06952",
   "metadata": {},
   "outputs": [],
   "source": [
    "train_images_shaped = train_img.reshape(train_img.shape[0],1,28,28)\n",
    "test_images_shaped = test_img.reshape(test_img.shape[0],1,28,28)"
   ]
  },
  {
   "cell_type": "code",
   "execution_count": 8,
   "id": "cc42892a",
   "metadata": {},
   "outputs": [],
   "source": [
    "train_images_tensors = torch.from_numpy(train_images_shaped)\n",
    "train_labels_tensors = torch.from_numpy(train_labels)\n",
    "\n",
    "test_images_tensors = torch.from_numpy(test_images_shaped)\n",
    "test_labels_tensors = torch.from_numpy(test_labels)"
   ]
  },
  {
   "cell_type": "code",
   "execution_count": 9,
   "id": "ed7e661e",
   "metadata": {},
   "outputs": [],
   "source": [
    "train_dataset = TensorDataset(train_images_tensors, train_labels_tensors) #this dataset will further devided into validation dataset and training dataset\n",
    "test_dataset = TensorDataset(test_images_tensors, test_labels_tensors)"
   ]
  },
  {
   "cell_type": "code",
   "execution_count": 10,
   "id": "3ce62d0c",
   "metadata": {},
   "outputs": [],
   "source": [
    "# transforms = transforms.Compose([\n",
    "#         #transforms.Normalize(159, 40),\n",
    "#         transforms.RandomHorizontalFlip(p=0.1),\n",
    "#         transforms.RandomApply([transforms.RandomRotation(degrees=(-180, 180))], p=0.2),\n",
    "# ]) "
   ]
  },
  {
   "cell_type": "code",
   "execution_count": 11,
   "id": "29d68759",
   "metadata": {},
   "outputs": [],
   "source": [
    "# train_dataset = SignLanguageDataset(train_df, transform=transforms)\n",
    "# test_dataset = SignLanguageDataset(test_df)"
   ]
  },
  {
   "cell_type": "code",
   "execution_count": 12,
   "id": "2afcc89d",
   "metadata": {},
   "outputs": [],
   "source": [
    "train_loader = DataLoader(train_dataset,\n",
    "                               batch_size = 128,\n",
    "                                shuffle = True,\n",
    "                                num_workers=2)\n",
    "test_loader = DataLoader(test_dataset,\n",
    "                              batch_size = 128,\n",
    "                                shuffle = True,\n",
    "                                num_workers=2)"
   ]
  },
  {
   "cell_type": "markdown",
   "id": "80c6bfed",
   "metadata": {},
   "source": [
    "## ASL CNN MODEL"
   ]
  },
  {
   "cell_type": "code",
   "execution_count": 13,
   "id": "95c2eea6",
   "metadata": {},
   "outputs": [],
   "source": [
    "class ASL_Model(nn.Module):\n",
    "    def __init__(self, num_classes):\n",
    "        super(ASL_Model, self).__init__()\n",
    "        self.conv1 = nn.Conv2d(1, 128, kernel_size=3)\n",
    "        self.pool = nn.MaxPool2d(kernel_size=2, stride=2, padding=0)\n",
    "        self.dropout = nn.Dropout(p=0.4)\n",
    "        self.conv2 = nn.Conv2d(128, 256, kernel_size=3)\n",
    "        self.conv3 = nn.Conv2d(256, 512, kernel_size=3)\n",
    "        self.conv4 = nn.Conv2d(512, 512, kernel_size=3)\n",
    "        \n",
    "        self.flatten = nn.Flatten()\n",
    "        self.fc1 = nn.Linear(128, 512)  # Adjust the size accordingly\n",
    "        self.dropout1 = nn.Dropout(p=0.4)\n",
    "        self.fc2 = nn.Linear(512, 64)\n",
    "        self.dropout2 = nn.Dropout(p=0.2)\n",
    "        self.fc3 = nn.Linear(64, 256)\n",
    "        self.dropout3 = nn.Dropout(p=0.3)\n",
    "        self.fc4 = nn.Linear(256, 64)\n",
    "        self.dropout4 = nn.Dropout(p=0.2)\n",
    "        self.fc5 = nn.Linear(64, 256)\n",
    "        self.dropout5 = nn.Dropout(p=0.3)\n",
    "        self.fc6 = nn.Linear(256, 6)\n",
    "\n",
    "    def forward(self, x):\n",
    "        x = F.relu(self.conv1(x))\n",
    "        x = self.pool(x)\n",
    "        x = self.dropout(x)\n",
    "        \n",
    "        x = F.relu(self.conv2(x))\n",
    "        x = self.pool(x)\n",
    "        x = self.dropout(x)\n",
    "        \n",
    "        x = F.relu(self.conv3(x))\n",
    "        x = self.pool(x)\n",
    "        \n",
    "        x = F.relu(self.conv4(x))\n",
    "        x = self.pool(x)\n",
    "        x = self.dropout(x)\n",
    "        \n",
    "        x = self.flatten(x)\n",
    "        \n",
    "        x = F.relu(self.fc1(x))\n",
    "        x = self.dropout1(x)\n",
    "        x = F.relu(self.fc2(x))\n",
    "        x = self.dropout2(x)\n",
    "        x = F.relu(self.fc3(x))\n",
    "        x = self.dropout3(x)\n",
    "        x = F.relu(self.fc4(x))\n",
    "        x = self.dropout4(x)\n",
    "        x = F.relu(self.fc5(x))\n",
    "        x = self.dropout5(x)\n",
    "        \n",
    "        x = self.fc6(x)\n",
    "        return F.softmax(x, dim=num_classes)\n"
   ]
  },
  {
   "cell_type": "markdown",
   "id": "92764aa5",
   "metadata": {},
   "source": [
    "## Loading the ASL Dataset"
   ]
  },
  {
   "cell_type": "code",
   "execution_count": 14,
   "id": "dd100ac6",
   "metadata": {},
   "outputs": [],
   "source": [
    "device = torch.device(\"cuda\" if torch.cuda.is_available() else \"cpu\")"
   ]
  },
  {
   "cell_type": "code",
   "execution_count": 15,
   "id": "bfdc699a",
   "metadata": {},
   "outputs": [],
   "source": [
    "# train_path = \"archive/asl_alphabet_train/asl_alphabet_train\"\n",
    "# val_path = \"aslsigndataset/splitdataset48x48/val\""
   ]
  },
  {
   "cell_type": "code",
   "execution_count": 16,
   "id": "eeb8b23e",
   "metadata": {
    "scrolled": true
   },
   "outputs": [],
   "source": [
    "# train_set = ImageFolder(train_path, transform = transforms.Compose([\n",
    "#     transforms.Grayscale(num_output_channels=1),\n",
    "#     transforms.Resize((28,28)),\n",
    "# transforms.ToTensor()]))\n",
    "\n",
    "# # val_set = ImageFolder(val_path, transform = transforms.Compose([\n",
    "# #     transforms.Grayscale(num_output_channels=1),\n",
    "# # #     transforms.Resize((48, 48)),\n",
    "# # transforms.ToTensor()]))\n",
    "\n",
    "# print(\"Number of images in the training set =\", len(train_set))"
   ]
  },
  {
   "cell_type": "code",
   "execution_count": 17,
   "id": "8dec8311",
   "metadata": {},
   "outputs": [],
   "source": [
    "# idx = 1500\n",
    "# item = train_set[idx]\n",
    "# print(f\"{idx}th item is a pair\", item)"
   ]
  },
  {
   "cell_type": "code",
   "execution_count": 18,
   "id": "c432c6cd",
   "metadata": {},
   "outputs": [],
   "source": [
    "# item[0].shape"
   ]
  },
  {
   "cell_type": "code",
   "execution_count": 19,
   "id": "b02643c4",
   "metadata": {},
   "outputs": [],
   "source": [
    "# train_loader = torch.utils.data.DataLoader(\n",
    "#     train_set,\n",
    "#     batch_size = 128,\n",
    "#     shuffle = True,\n",
    "#     num_workers=2,\n",
    "#     pin_memory = True\n",
    "# )\n",
    "\n",
    "# # val_loader = torch.utils.data.DataLoader(\n",
    "# #     val_set,\n",
    "# #     batch_size = 128,\n",
    "# #     shuffle = True,\n",
    "# #     num_workers=2,\n",
    "# #     pin_memory = True\n",
    "# # )"
   ]
  },
  {
   "cell_type": "code",
   "execution_count": 20,
   "id": "08a84fba",
   "metadata": {},
   "outputs": [
    {
     "name": "stdout",
     "output_type": "stream",
     "text": [
      "images.shape=torch.Size([128, 1, 28, 28]), labels.shape=torch.Size([128])\n"
     ]
    }
   ],
   "source": [
    "images, labels = next(train_loader.__iter__())\n",
    "print(f\"{images.shape=}, {labels.shape=}\")"
   ]
  },
  {
   "cell_type": "code",
   "execution_count": 21,
   "id": "11eb7162",
   "metadata": {},
   "outputs": [],
   "source": [
    "# labels"
   ]
  },
  {
   "cell_type": "code",
   "execution_count": 22,
   "id": "72a796e3",
   "metadata": {},
   "outputs": [],
   "source": [
    "def train_model(model, train_loader, loss_fn, optimizer):\n",
    "    model.train()\n",
    "    # initiate a loss monitor\n",
    "    train_loss = []\n",
    "    correct_predictions = 0\n",
    "\n",
    "    for images, labels in train_loader:\n",
    "        # predict the class\n",
    "        images, labels = images.to(device), labels.to(device)\n",
    "        predicted = model(images)\n",
    "        loss = loss_fn(predicted, labels)\n",
    "        correct_predictions += (predicted.argmax(dim=1) == labels).sum().item()\n",
    "        # backward pass\n",
    "        optimizer.zero_grad()\n",
    "        loss.backward()\n",
    "        optimizer.step()\n",
    "\n",
    "        train_loss.append(loss.item())\n",
    "    \n",
    "    return np.mean(train_loss), correct_predictions / len(train_loader.dataset)"
   ]
  },
  {
   "cell_type": "code",
   "execution_count": 23,
   "id": "bf47d45c",
   "metadata": {},
   "outputs": [],
   "source": [
    "def evaluate_model(model, val_loader, loss_fn, return_confusion_matrix = False):\n",
    "    model.eval()\n",
    "    val_loss = []\n",
    "    correct_predictions = 0\n",
    "    \n",
    "    if return_confusion_matrix:\n",
    "        confusion_matrix = torch.zeros(\n",
    "            len(val_loader.dataset.classes), len(val_loader.dataset.classes))\n",
    "        \n",
    "    for images, labels in val_loader:\n",
    "            # predict the class\n",
    "            images, labels = images.to(device), labels.to(device)\n",
    "            predicted = model(images)\n",
    "            loss = loss_fn(predicted, labels)\n",
    "            correct_predictions += (predicted.argmax(dim=1) == labels).sum().item() \n",
    "            val_loss.append(loss.item())\n",
    "            \n",
    "    val_loss = np.mean(val_loss)\n",
    "    val_acc = correct_predictions/ len(val_loader.dataset)\n",
    "    \n",
    "    if return_confusion_matrix:\n",
    "        return val_loss, val_acc, confusion_matrix\n",
    "    else:\n",
    "        return val_loss, val_acc"
   ]
  },
  {
   "cell_type": "code",
   "execution_count": 24,
   "id": "dcd3e9e0",
   "metadata": {},
   "outputs": [],
   "source": [
    "model = nn.Sequential(\n",
    "            nn.Conv2d(in_channels = 1, out_channels = 512, kernel_size=5, stride= 1),\n",
    "            nn.ReLU(),\n",
    "            nn.MaxPool2d(kernel_size=3, stride=1),\n",
    "            nn.Dropout(p=0.25),\n",
    "            nn.Conv2d(in_channels = 512, out_channels = 256, kernel_size=3, stride= 1),\n",
    "            nn.ReLU(),\n",
    "            nn.MaxPool2d(kernel_size=2, stride=1),\n",
    "            nn.Conv2d(in_channels = 256, out_channels = 128, kernel_size=3, stride= 1),\n",
    "            nn.ReLU(),\n",
    "            nn.MaxPool2d(kernel_size=2, stride=1),\n",
    "            nn.Conv2d(128, 64, kernel_size=2),\n",
    "            nn.ReLU(),\n",
    "            nn.MaxPool2d(kernel_size=2, stride=1, padding=0),\n",
    "            nn.Conv2d(64, 32, kernel_size=2),\n",
    "            nn.ReLU(),\n",
    "            nn.MaxPool2d(kernel_size=2, stride=1, padding=0),\n",
    "            nn.Flatten(),\n",
    "            nn.Linear(in_features = 4608, out_features = 512),  # Adjust the size accordingly\n",
    "            nn.ReLU(),\n",
    "            nn.Linear(512, 256),\n",
    "            nn.ReLU(),\n",
    "            nn.Linear(256, 128),\n",
    "            nn.ReLU(),\n",
    "            nn.Linear(128, 64),\n",
    "            nn.ReLU(),\n",
    "            nn.Dropout(p=0.25),\n",
    "            nn.Linear(64, 26),\n",
    "            nn.Softmax()\n",
    "        ).to(device)"
   ]
  },
  {
   "cell_type": "code",
   "execution_count": 25,
   "id": "a4258f94",
   "metadata": {},
   "outputs": [],
   "source": [
    "def view_network_parameters(model):\n",
    "    tensor_list = list(model.state_dict().items())\n",
    "    total_parameters = 0\n",
    "    print('ModelSummary\\n')\n",
    "    for layer_tensor_name, ternsor in tensor_list:\n",
    "        total_parameters += int(torch.numel(tensor))\n",
    "        print('{}: {} elements'.format(layer_tensor_name, torch.numel(tensor)))\n",
    "    print(f'\\nTotal Trainable Parameters: {total_parameters})!')\n",
    "\n",
    "def view_network_shapes(model, input_shape):\n",
    "    print(summary(model, input_size = input_shape))"
   ]
  },
  {
   "cell_type": "code",
   "execution_count": 26,
   "id": "6e24c5da",
   "metadata": {},
   "outputs": [
    {
     "name": "stdout",
     "output_type": "stream",
     "text": [
      "==========================================================================================\n",
      "Layer (type:depth-idx)                   Output Shape              Param #\n",
      "==========================================================================================\n",
      "Sequential                               [1, 26]                   --\n",
      "├─Conv2d: 1-1                            [1, 512, 24, 24]          13,312\n",
      "├─ReLU: 1-2                              [1, 512, 24, 24]          --\n",
      "├─MaxPool2d: 1-3                         [1, 512, 22, 22]          --\n",
      "├─Dropout: 1-4                           [1, 512, 22, 22]          --\n",
      "├─Conv2d: 1-5                            [1, 256, 20, 20]          1,179,904\n",
      "├─ReLU: 1-6                              [1, 256, 20, 20]          --\n",
      "├─MaxPool2d: 1-7                         [1, 256, 19, 19]          --\n",
      "├─Conv2d: 1-8                            [1, 128, 17, 17]          295,040\n",
      "├─ReLU: 1-9                              [1, 128, 17, 17]          --\n",
      "├─MaxPool2d: 1-10                        [1, 128, 16, 16]          --\n",
      "├─Conv2d: 1-11                           [1, 64, 15, 15]           32,832\n",
      "├─ReLU: 1-12                             [1, 64, 15, 15]           --\n",
      "├─MaxPool2d: 1-13                        [1, 64, 14, 14]           --\n",
      "├─Conv2d: 1-14                           [1, 32, 13, 13]           8,224\n",
      "├─ReLU: 1-15                             [1, 32, 13, 13]           --\n",
      "├─MaxPool2d: 1-16                        [1, 32, 12, 12]           --\n",
      "├─Flatten: 1-17                          [1, 4608]                 --\n",
      "├─Linear: 1-18                           [1, 512]                  2,359,808\n",
      "├─ReLU: 1-19                             [1, 512]                  --\n",
      "├─Linear: 1-20                           [1, 256]                  131,328\n",
      "├─ReLU: 1-21                             [1, 256]                  --\n",
      "├─Linear: 1-22                           [1, 128]                  32,896\n",
      "├─ReLU: 1-23                             [1, 128]                  --\n",
      "├─Linear: 1-24                           [1, 64]                   8,256\n",
      "├─ReLU: 1-25                             [1, 64]                   --\n",
      "├─Dropout: 1-26                          [1, 64]                   --\n",
      "├─Linear: 1-27                           [1, 26]                   1,690\n",
      "├─Softmax: 1-28                          [1, 26]                   --\n",
      "==========================================================================================\n",
      "Total params: 4,063,290\n",
      "Trainable params: 4,063,290\n",
      "Non-trainable params: 0\n",
      "Total mult-adds (Units.MEGABYTES): 576.21\n",
      "==========================================================================================\n",
      "Input size (MB): 0.00\n",
      "Forward/backward pass size (MB): 3.64\n",
      "Params size (MB): 16.25\n",
      "Estimated Total Size (MB): 19.90\n",
      "==========================================================================================\n"
     ]
    },
    {
     "name": "stderr",
     "output_type": "stream",
     "text": [
      "C:\\Anaconda\\Lib\\site-packages\\torch\\nn\\modules\\module.py:1532: UserWarning: Implicit dimension choice for softmax has been deprecated. Change the call to include dim=X as an argument.\n",
      "  return self._call_impl(*args, **kwargs)\n"
     ]
    }
   ],
   "source": [
    "input_shape = (1,1,28,28)\n",
    "view_network_shapes(model, torch.randn(input_shape).shape)"
   ]
  },
  {
   "cell_type": "code",
   "execution_count": 27,
   "id": "88ef485d",
   "metadata": {},
   "outputs": [
    {
     "name": "stderr",
     "output_type": "stream",
     "text": [
      "  1%|          | 1/100 [00:18<29:43, 18.02s/it]"
     ]
    },
    {
     "name": "stdout",
     "output_type": "stream",
     "text": [
      "epoch 1/100 | train loss=3.14861, train_acc=0.16751, val loss=3.03599, val_acc=0.28667\n"
     ]
    },
    {
     "name": "stderr",
     "output_type": "stream",
     "text": [
      "\r",
      "  2%|▏         | 2/100 [00:36<29:24, 18.00s/it]"
     ]
    },
    {
     "name": "stdout",
     "output_type": "stream",
     "text": [
      "epoch 2/100 | train loss=2.91252, train_acc=0.41231, val loss=2.92151, val_acc=0.40337\n"
     ]
    },
    {
     "name": "stderr",
     "output_type": "stream",
     "text": [
      "\r",
      "  3%|▎         | 3/100 [00:53<29:05, 17.99s/it]"
     ]
    },
    {
     "name": "stdout",
     "output_type": "stream",
     "text": [
      "epoch 3/100 | train loss=2.82607, train_acc=0.49827, val loss=2.82326, val_acc=0.49428\n"
     ]
    },
    {
     "name": "stderr",
     "output_type": "stream",
     "text": [
      "\r",
      "  4%|▍         | 4/100 [01:11<28:46, 17.99s/it]"
     ]
    },
    {
     "name": "stdout",
     "output_type": "stream",
     "text": [
      "epoch 4/100 | train loss=2.75411, train_acc=0.57053, val loss=2.75828, val_acc=0.56832\n"
     ]
    },
    {
     "name": "stderr",
     "output_type": "stream",
     "text": [
      "\r",
      "  5%|▌         | 5/100 [01:29<28:29, 17.99s/it]"
     ]
    },
    {
     "name": "stdout",
     "output_type": "stream",
     "text": [
      "epoch 5/100 | train loss=2.70527, train_acc=0.61952, val loss=2.68538, val_acc=0.63622\n"
     ]
    },
    {
     "name": "stderr",
     "output_type": "stream",
     "text": [
      "\r",
      "  6%|▌         | 6/100 [01:47<28:11, 18.00s/it]"
     ]
    },
    {
     "name": "stdout",
     "output_type": "stream",
     "text": [
      "epoch 6/100 | train loss=2.65297, train_acc=0.67121, val loss=2.66680, val_acc=0.65421\n"
     ]
    },
    {
     "name": "stderr",
     "output_type": "stream",
     "text": [
      "\r",
      "  7%|▋         | 7/100 [02:05<27:48, 17.94s/it]"
     ]
    },
    {
     "name": "stdout",
     "output_type": "stream",
     "text": [
      "epoch 7/100 | train loss=2.64296, train_acc=0.68009, val loss=2.64977, val_acc=0.66941\n"
     ]
    },
    {
     "name": "stderr",
     "output_type": "stream",
     "text": [
      "\r",
      "  8%|▊         | 8/100 [02:24<27:47, 18.12s/it]"
     ]
    },
    {
     "name": "stdout",
     "output_type": "stream",
     "text": [
      "epoch 8/100 | train loss=2.63594, train_acc=0.68727, val loss=2.63826, val_acc=0.68698\n"
     ]
    },
    {
     "name": "stderr",
     "output_type": "stream",
     "text": [
      "\r",
      "  9%|▉         | 9/100 [02:42<27:27, 18.11s/it]"
     ]
    },
    {
     "name": "stdout",
     "output_type": "stream",
     "text": [
      "epoch 9/100 | train loss=2.60105, train_acc=0.72442, val loss=2.59765, val_acc=0.72574\n"
     ]
    },
    {
     "name": "stderr",
     "output_type": "stream",
     "text": [
      "\r",
      " 10%|█         | 10/100 [03:00<27:01, 18.01s/it]"
     ]
    },
    {
     "name": "stdout",
     "output_type": "stream",
     "text": [
      "epoch 10/100 | train loss=2.53687, train_acc=0.78816, val loss=2.53975, val_acc=0.77914\n"
     ]
    },
    {
     "name": "stderr",
     "output_type": "stream",
     "text": [
      "\r",
      " 11%|█         | 11/100 [03:17<26:36, 17.94s/it]"
     ]
    },
    {
     "name": "stdout",
     "output_type": "stream",
     "text": [
      "epoch 11/100 | train loss=2.51973, train_acc=0.80382, val loss=2.54158, val_acc=0.78625\n"
     ]
    },
    {
     "name": "stderr",
     "output_type": "stream",
     "text": [
      "\r",
      " 12%|█▏        | 12/100 [03:35<26:15, 17.91s/it]"
     ]
    },
    {
     "name": "stdout",
     "output_type": "stream",
     "text": [
      "epoch 12/100 | train loss=2.50946, train_acc=0.81359, val loss=2.55594, val_acc=0.76520\n"
     ]
    },
    {
     "name": "stderr",
     "output_type": "stream",
     "text": [
      "\r",
      " 13%|█▎        | 13/100 [03:53<25:58, 17.91s/it]"
     ]
    },
    {
     "name": "stdout",
     "output_type": "stream",
     "text": [
      "epoch 13/100 | train loss=2.50290, train_acc=0.82043, val loss=2.52772, val_acc=0.79587\n"
     ]
    },
    {
     "name": "stderr",
     "output_type": "stream",
     "text": [
      "\r",
      " 14%|█▍        | 14/100 [04:11<25:38, 17.88s/it]"
     ]
    },
    {
     "name": "stdout",
     "output_type": "stream",
     "text": [
      "epoch 14/100 | train loss=2.47492, train_acc=0.84895, val loss=2.50586, val_acc=0.81609\n"
     ]
    },
    {
     "name": "stderr",
     "output_type": "stream",
     "text": [
      "\r",
      " 15%|█▌        | 15/100 [04:29<25:18, 17.86s/it]"
     ]
    },
    {
     "name": "stdout",
     "output_type": "stream",
     "text": [
      "epoch 15/100 | train loss=2.46687, train_acc=0.85635, val loss=2.52384, val_acc=0.79894\n"
     ]
    },
    {
     "name": "stderr",
     "output_type": "stream",
     "text": [
      "\r",
      " 16%|█▌        | 16/100 [04:47<24:59, 17.85s/it]"
     ]
    },
    {
     "name": "stdout",
     "output_type": "stream",
     "text": [
      "epoch 16/100 | train loss=2.46385, train_acc=0.85901, val loss=2.47712, val_acc=0.84481\n"
     ]
    },
    {
     "name": "stderr",
     "output_type": "stream",
     "text": [
      "\r",
      " 17%|█▋        | 17/100 [05:04<24:39, 17.83s/it]"
     ]
    },
    {
     "name": "stdout",
     "output_type": "stream",
     "text": [
      "epoch 17/100 | train loss=2.46591, train_acc=0.85711, val loss=2.50766, val_acc=0.81525\n"
     ]
    },
    {
     "name": "stderr",
     "output_type": "stream",
     "text": [
      "\r",
      " 18%|█▊        | 18/100 [05:22<24:20, 17.82s/it]"
     ]
    },
    {
     "name": "stdout",
     "output_type": "stream",
     "text": [
      "epoch 18/100 | train loss=2.46141, train_acc=0.86130, val loss=2.50291, val_acc=0.82376\n"
     ]
    },
    {
     "name": "stderr",
     "output_type": "stream",
     "text": [
      "\r",
      " 19%|█▉        | 19/100 [05:40<24:02, 17.81s/it]"
     ]
    },
    {
     "name": "stdout",
     "output_type": "stream",
     "text": [
      "epoch 19/100 | train loss=2.43647, train_acc=0.88756, val loss=2.49052, val_acc=0.83436\n"
     ]
    },
    {
     "name": "stderr",
     "output_type": "stream",
     "text": [
      "\r",
      " 20%|██        | 20/100 [05:58<23:44, 17.80s/it]"
     ]
    },
    {
     "name": "stdout",
     "output_type": "stream",
     "text": [
      "epoch 20/100 | train loss=2.42152, train_acc=0.90166, val loss=2.44720, val_acc=0.87354\n"
     ]
    },
    {
     "name": "stderr",
     "output_type": "stream",
     "text": [
      "\r",
      " 21%|██        | 21/100 [06:16<23:25, 17.79s/it]"
     ]
    },
    {
     "name": "stdout",
     "output_type": "stream",
     "text": [
      "epoch 21/100 | train loss=2.40621, train_acc=0.91768, val loss=2.44861, val_acc=0.87340\n"
     ]
    },
    {
     "name": "stderr",
     "output_type": "stream",
     "text": [
      "\r",
      " 22%|██▏       | 22/100 [06:33<23:09, 17.81s/it]"
     ]
    },
    {
     "name": "stdout",
     "output_type": "stream",
     "text": [
      "epoch 22/100 | train loss=2.38070, train_acc=0.94351, val loss=2.43138, val_acc=0.89598\n"
     ]
    },
    {
     "name": "stderr",
     "output_type": "stream",
     "text": [
      "\r",
      " 23%|██▎       | 23/100 [06:51<22:51, 17.81s/it]"
     ]
    },
    {
     "name": "stdout",
     "output_type": "stream",
     "text": [
      "epoch 23/100 | train loss=2.37042, train_acc=0.95261, val loss=2.42406, val_acc=0.89584\n"
     ]
    },
    {
     "name": "stderr",
     "output_type": "stream",
     "text": [
      "\r",
      " 24%|██▍       | 24/100 [07:09<22:32, 17.80s/it]"
     ]
    },
    {
     "name": "stdout",
     "output_type": "stream",
     "text": [
      "epoch 24/100 | train loss=2.36521, train_acc=0.95789, val loss=2.43314, val_acc=0.89292\n"
     ]
    },
    {
     "name": "stderr",
     "output_type": "stream",
     "text": [
      "\r",
      " 25%|██▌       | 25/100 [07:27<22:14, 17.79s/it]"
     ]
    },
    {
     "name": "stdout",
     "output_type": "stream",
     "text": [
      "epoch 25/100 | train loss=2.34193, train_acc=0.98252, val loss=2.41238, val_acc=0.90923\n"
     ]
    },
    {
     "name": "stderr",
     "output_type": "stream",
     "text": [
      "\r",
      " 26%|██▌       | 26/100 [07:45<21:56, 17.79s/it]"
     ]
    },
    {
     "name": "stdout",
     "output_type": "stream",
     "text": [
      "epoch 26/100 | train loss=2.33405, train_acc=0.98969, val loss=2.41516, val_acc=0.90951\n"
     ]
    },
    {
     "name": "stderr",
     "output_type": "stream",
     "text": [
      "\r",
      " 27%|██▋       | 27/100 [08:02<21:35, 17.75s/it]"
     ]
    },
    {
     "name": "stdout",
     "output_type": "stream",
     "text": [
      "epoch 27/100 | train loss=2.33373, train_acc=0.99006, val loss=2.43617, val_acc=0.88762\n"
     ]
    },
    {
     "name": "stderr",
     "output_type": "stream",
     "text": [
      "\r",
      " 28%|██▊       | 28/100 [08:20<21:18, 17.75s/it]"
     ]
    },
    {
     "name": "stdout",
     "output_type": "stream",
     "text": [
      "epoch 28/100 | train loss=2.32841, train_acc=0.99486, val loss=2.39808, val_acc=0.92568\n"
     ]
    },
    {
     "name": "stderr",
     "output_type": "stream",
     "text": [
      "\r",
      " 29%|██▉       | 29/100 [08:38<20:57, 17.71s/it]"
     ]
    },
    {
     "name": "stdout",
     "output_type": "stream",
     "text": [
      "epoch 29/100 | train loss=2.32512, train_acc=0.99763, val loss=2.39394, val_acc=0.92777\n"
     ]
    },
    {
     "name": "stderr",
     "output_type": "stream",
     "text": [
      "\r",
      " 30%|███       | 30/100 [08:55<20:41, 17.74s/it]"
     ]
    },
    {
     "name": "stdout",
     "output_type": "stream",
     "text": [
      "epoch 30/100 | train loss=2.32531, train_acc=0.99763, val loss=2.39808, val_acc=0.92331\n"
     ]
    },
    {
     "name": "stderr",
     "output_type": "stream",
     "text": [
      "\r",
      " 31%|███       | 31/100 [09:13<20:25, 17.76s/it]"
     ]
    },
    {
     "name": "stdout",
     "output_type": "stream",
     "text": [
      "epoch 31/100 | train loss=2.32507, train_acc=0.99771, val loss=2.41481, val_acc=0.91216\n"
     ]
    },
    {
     "name": "stderr",
     "output_type": "stream",
     "text": [
      "\r",
      " 32%|███▏      | 32/100 [09:31<20:08, 17.77s/it]"
     ]
    },
    {
     "name": "stdout",
     "output_type": "stream",
     "text": [
      "epoch 32/100 | train loss=2.32560, train_acc=0.99749, val loss=2.40663, val_acc=0.91885\n"
     ]
    },
    {
     "name": "stderr",
     "output_type": "stream",
     "text": [
      "\r",
      " 33%|███▎      | 33/100 [09:49<19:50, 17.77s/it]"
     ]
    },
    {
     "name": "stdout",
     "output_type": "stream",
     "text": [
      "epoch 33/100 | train loss=2.32965, train_acc=0.99417, val loss=2.40207, val_acc=0.92875\n"
     ]
    },
    {
     "name": "stderr",
     "output_type": "stream",
     "text": [
      "\r",
      " 34%|███▍      | 34/100 [10:07<19:33, 17.79s/it]"
     ]
    },
    {
     "name": "stdout",
     "output_type": "stream",
     "text": [
      "epoch 34/100 | train loss=2.33317, train_acc=0.99086, val loss=2.40592, val_acc=0.92052\n"
     ]
    },
    {
     "name": "stderr",
     "output_type": "stream",
     "text": [
      "\r",
      " 35%|███▌      | 35/100 [10:24<19:15, 17.78s/it]"
     ]
    },
    {
     "name": "stdout",
     "output_type": "stream",
     "text": [
      "epoch 35/100 | train loss=2.32585, train_acc=0.99716, val loss=2.38449, val_acc=0.93670\n"
     ]
    },
    {
     "name": "stderr",
     "output_type": "stream",
     "text": [
      "\r",
      " 36%|███▌      | 36/100 [10:42<18:57, 17.78s/it]"
     ]
    },
    {
     "name": "stdout",
     "output_type": "stream",
     "text": [
      "epoch 36/100 | train loss=2.32341, train_acc=0.99920, val loss=2.37668, val_acc=0.94841\n"
     ]
    },
    {
     "name": "stderr",
     "output_type": "stream",
     "text": [
      "\r",
      " 37%|███▋      | 37/100 [11:00<18:41, 17.80s/it]"
     ]
    },
    {
     "name": "stdout",
     "output_type": "stream",
     "text": [
      "epoch 37/100 | train loss=2.33078, train_acc=0.99319, val loss=2.42430, val_acc=0.90700\n"
     ]
    },
    {
     "name": "stderr",
     "output_type": "stream",
     "text": [
      "\r",
      " 38%|███▊      | 38/100 [11:18<18:22, 17.78s/it]"
     ]
    },
    {
     "name": "stdout",
     "output_type": "stream",
     "text": [
      "epoch 38/100 | train loss=2.32630, train_acc=0.99716, val loss=2.39613, val_acc=0.93252\n"
     ]
    },
    {
     "name": "stderr",
     "output_type": "stream",
     "text": [
      "\r",
      " 39%|███▉      | 39/100 [11:35<18:01, 17.74s/it]"
     ]
    },
    {
     "name": "stdout",
     "output_type": "stream",
     "text": [
      "epoch 39/100 | train loss=2.32532, train_acc=0.99767, val loss=2.41558, val_acc=0.91299\n"
     ]
    },
    {
     "name": "stderr",
     "output_type": "stream",
     "text": [
      "\r",
      " 40%|████      | 40/100 [11:53<17:45, 17.76s/it]"
     ]
    },
    {
     "name": "stdout",
     "output_type": "stream",
     "text": [
      "epoch 40/100 | train loss=2.32513, train_acc=0.99800, val loss=2.40543, val_acc=0.92289\n"
     ]
    },
    {
     "name": "stderr",
     "output_type": "stream",
     "text": [
      "\r",
      " 41%|████      | 41/100 [12:11<17:28, 17.77s/it]"
     ]
    },
    {
     "name": "stdout",
     "output_type": "stream",
     "text": [
      "epoch 41/100 | train loss=2.32472, train_acc=0.99818, val loss=2.41002, val_acc=0.91955\n"
     ]
    },
    {
     "name": "stderr",
     "output_type": "stream",
     "text": [
      "\r",
      " 42%|████▏     | 42/100 [12:29<17:10, 17.76s/it]"
     ]
    },
    {
     "name": "stdout",
     "output_type": "stream",
     "text": [
      "epoch 42/100 | train loss=2.32554, train_acc=0.99756, val loss=2.40067, val_acc=0.92471\n"
     ]
    },
    {
     "name": "stderr",
     "output_type": "stream",
     "text": [
      "\r",
      " 43%|████▎     | 43/100 [12:46<16:50, 17.73s/it]"
     ]
    },
    {
     "name": "stdout",
     "output_type": "stream",
     "text": [
      "epoch 43/100 | train loss=2.32577, train_acc=0.99745, val loss=2.45729, val_acc=0.86824\n"
     ]
    },
    {
     "name": "stderr",
     "output_type": "stream",
     "text": [
      "\r",
      " 44%|████▍     | 44/100 [13:04<16:33, 17.74s/it]"
     ]
    },
    {
     "name": "stdout",
     "output_type": "stream",
     "text": [
      "epoch 44/100 | train loss=2.32766, train_acc=0.99614, val loss=2.38857, val_acc=0.93363\n"
     ]
    },
    {
     "name": "stderr",
     "output_type": "stream",
     "text": [
      "\r",
      " 45%|████▌     | 45/100 [13:22<16:14, 17.71s/it]"
     ]
    },
    {
     "name": "stdout",
     "output_type": "stream",
     "text": [
      "epoch 45/100 | train loss=2.32421, train_acc=0.99865, val loss=2.38415, val_acc=0.94088\n"
     ]
    },
    {
     "name": "stderr",
     "output_type": "stream",
     "text": [
      "\r",
      " 46%|████▌     | 46/100 [13:40<15:57, 17.73s/it]"
     ]
    },
    {
     "name": "stdout",
     "output_type": "stream",
     "text": [
      "epoch 46/100 | train loss=2.32720, train_acc=0.99632, val loss=2.38347, val_acc=0.94311\n"
     ]
    },
    {
     "name": "stderr",
     "output_type": "stream",
     "text": [
      "\r",
      " 47%|████▋     | 47/100 [13:57<15:39, 17.73s/it]"
     ]
    },
    {
     "name": "stdout",
     "output_type": "stream",
     "text": [
      "epoch 47/100 | train loss=2.32500, train_acc=0.99818, val loss=2.38211, val_acc=0.94060\n"
     ]
    },
    {
     "name": "stderr",
     "output_type": "stream",
     "text": [
      "\r",
      " 48%|████▊     | 48/100 [14:15<15:20, 17.71s/it]"
     ]
    },
    {
     "name": "stdout",
     "output_type": "stream",
     "text": [
      "epoch 48/100 | train loss=2.32278, train_acc=0.99960, val loss=2.38961, val_acc=0.93726\n"
     ]
    },
    {
     "name": "stderr",
     "output_type": "stream",
     "text": [
      "\r",
      " 49%|████▉     | 49/100 [14:33<15:04, 17.73s/it]"
     ]
    },
    {
     "name": "stdout",
     "output_type": "stream",
     "text": [
      "epoch 49/100 | train loss=2.32639, train_acc=0.99690, val loss=2.40111, val_acc=0.92164\n"
     ]
    },
    {
     "name": "stderr",
     "output_type": "stream",
     "text": [
      "\r",
      " 50%|█████     | 50/100 [14:51<14:47, 17.76s/it]"
     ]
    },
    {
     "name": "stdout",
     "output_type": "stream",
     "text": [
      "epoch 50/100 | train loss=2.32832, train_acc=0.99494, val loss=2.40141, val_acc=0.92513\n"
     ]
    },
    {
     "name": "stderr",
     "output_type": "stream",
     "text": [
      "\r",
      " 51%|█████     | 51/100 [15:08<14:30, 17.76s/it]"
     ]
    },
    {
     "name": "stdout",
     "output_type": "stream",
     "text": [
      "epoch 51/100 | train loss=2.32530, train_acc=0.99771, val loss=2.41542, val_acc=0.91411\n"
     ]
    },
    {
     "name": "stderr",
     "output_type": "stream",
     "text": [
      "\r",
      " 52%|█████▏    | 52/100 [15:26<14:13, 17.78s/it]"
     ]
    },
    {
     "name": "stdout",
     "output_type": "stream",
     "text": [
      "epoch 52/100 | train loss=2.32469, train_acc=0.99818, val loss=2.39791, val_acc=0.92847\n"
     ]
    },
    {
     "name": "stderr",
     "output_type": "stream",
     "text": [
      "\r",
      " 53%|█████▎    | 53/100 [15:44<13:55, 17.78s/it]"
     ]
    },
    {
     "name": "stdout",
     "output_type": "stream",
     "text": [
      "epoch 53/100 | train loss=2.32447, train_acc=0.99869, val loss=2.39678, val_acc=0.93349\n"
     ]
    },
    {
     "name": "stderr",
     "output_type": "stream",
     "text": [
      "\r",
      " 54%|█████▍    | 54/100 [16:02<13:37, 17.77s/it]"
     ]
    },
    {
     "name": "stdout",
     "output_type": "stream",
     "text": [
      "epoch 54/100 | train loss=2.32971, train_acc=0.99388, val loss=2.41086, val_acc=0.91843\n"
     ]
    },
    {
     "name": "stderr",
     "output_type": "stream",
     "text": [
      "\r",
      " 55%|█████▌    | 55/100 [16:19<13:20, 17.79s/it]"
     ]
    },
    {
     "name": "stdout",
     "output_type": "stream",
     "text": [
      "epoch 55/100 | train loss=2.32290, train_acc=0.99960, val loss=2.37848, val_acc=0.94395\n"
     ]
    },
    {
     "name": "stderr",
     "output_type": "stream",
     "text": [
      "\r",
      " 56%|█████▌    | 56/100 [16:37<13:02, 17.79s/it]"
     ]
    },
    {
     "name": "stdout",
     "output_type": "stream",
     "text": [
      "epoch 56/100 | train loss=2.32435, train_acc=0.99843, val loss=2.39344, val_acc=0.93154\n"
     ]
    },
    {
     "name": "stderr",
     "output_type": "stream",
     "text": [
      "\r",
      " 57%|█████▋    | 57/100 [16:55<12:45, 17.79s/it]"
     ]
    },
    {
     "name": "stdout",
     "output_type": "stream",
     "text": [
      "epoch 57/100 | train loss=2.32619, train_acc=0.99741, val loss=2.39253, val_acc=0.93140\n"
     ]
    },
    {
     "name": "stderr",
     "output_type": "stream",
     "text": [
      "\r",
      " 58%|█████▊    | 58/100 [17:13<12:26, 17.79s/it]"
     ]
    },
    {
     "name": "stdout",
     "output_type": "stream",
     "text": [
      "epoch 58/100 | train loss=2.32296, train_acc=0.99949, val loss=2.39699, val_acc=0.92694\n"
     ]
    },
    {
     "name": "stderr",
     "output_type": "stream",
     "text": [
      "\r",
      " 59%|█████▉    | 59/100 [17:31<12:10, 17.81s/it]"
     ]
    },
    {
     "name": "stdout",
     "output_type": "stream",
     "text": [
      "epoch 59/100 | train loss=2.32270, train_acc=0.99989, val loss=2.38139, val_acc=0.94144\n"
     ]
    },
    {
     "name": "stderr",
     "output_type": "stream",
     "text": [
      "\r",
      " 60%|██████    | 60/100 [17:49<11:51, 17.80s/it]"
     ]
    },
    {
     "name": "stdout",
     "output_type": "stream",
     "text": [
      "epoch 60/100 | train loss=2.32254, train_acc=0.99993, val loss=2.38848, val_acc=0.93321\n"
     ]
    },
    {
     "name": "stderr",
     "output_type": "stream",
     "text": [
      "\r",
      " 61%|██████    | 61/100 [18:06<11:33, 17.79s/it]"
     ]
    },
    {
     "name": "stdout",
     "output_type": "stream",
     "text": [
      "epoch 61/100 | train loss=2.32794, train_acc=0.99643, val loss=2.44821, val_acc=0.87897\n"
     ]
    },
    {
     "name": "stderr",
     "output_type": "stream",
     "text": [
      "\r",
      " 62%|██████▏   | 62/100 [18:24<11:16, 17.79s/it]"
     ]
    },
    {
     "name": "stdout",
     "output_type": "stream",
     "text": [
      "epoch 62/100 | train loss=2.32987, train_acc=0.99410, val loss=2.39968, val_acc=0.92973\n"
     ]
    },
    {
     "name": "stderr",
     "output_type": "stream",
     "text": [
      "\r",
      " 63%|██████▎   | 63/100 [18:42<10:56, 17.74s/it]"
     ]
    },
    {
     "name": "stdout",
     "output_type": "stream",
     "text": [
      "epoch 63/100 | train loss=2.32998, train_acc=0.99355, val loss=2.42151, val_acc=0.90728\n"
     ]
    },
    {
     "name": "stderr",
     "output_type": "stream",
     "text": [
      "\r",
      " 64%|██████▍   | 64/100 [18:59<10:39, 17.75s/it]"
     ]
    },
    {
     "name": "stdout",
     "output_type": "stream",
     "text": [
      "epoch 64/100 | train loss=2.32350, train_acc=0.99905, val loss=2.39315, val_acc=0.92889\n"
     ]
    },
    {
     "name": "stderr",
     "output_type": "stream",
     "text": [
      "\r",
      " 65%|██████▌   | 65/100 [19:17<10:21, 17.77s/it]"
     ]
    },
    {
     "name": "stdout",
     "output_type": "stream",
     "text": [
      "epoch 65/100 | train loss=2.32237, train_acc=0.99993, val loss=2.39242, val_acc=0.93028\n"
     ]
    },
    {
     "name": "stderr",
     "output_type": "stream",
     "text": [
      "\r",
      " 66%|██████▌   | 66/100 [19:35<10:04, 17.79s/it]"
     ]
    },
    {
     "name": "stdout",
     "output_type": "stream",
     "text": [
      "epoch 66/100 | train loss=2.32272, train_acc=0.99971, val loss=2.38510, val_acc=0.94367\n"
     ]
    },
    {
     "name": "stderr",
     "output_type": "stream",
     "text": [
      "\r",
      " 67%|██████▋   | 67/100 [19:53<09:46, 17.78s/it]"
     ]
    },
    {
     "name": "stdout",
     "output_type": "stream",
     "text": [
      "epoch 67/100 | train loss=2.32242, train_acc=1.00000, val loss=2.38814, val_acc=0.93795\n"
     ]
    },
    {
     "name": "stderr",
     "output_type": "stream",
     "text": [
      "\r",
      " 68%|██████▊   | 68/100 [20:11<09:28, 17.77s/it]"
     ]
    },
    {
     "name": "stdout",
     "output_type": "stream",
     "text": [
      "epoch 68/100 | train loss=2.32652, train_acc=0.99741, val loss=2.42592, val_acc=0.89403\n"
     ]
    },
    {
     "name": "stderr",
     "output_type": "stream",
     "text": [
      "\r",
      " 69%|██████▉   | 69/100 [20:28<09:10, 17.77s/it]"
     ]
    },
    {
     "name": "stdout",
     "output_type": "stream",
     "text": [
      "epoch 69/100 | train loss=2.32641, train_acc=0.99734, val loss=2.39687, val_acc=0.92736\n"
     ]
    },
    {
     "name": "stderr",
     "output_type": "stream",
     "text": [
      "\r",
      " 70%|███████   | 70/100 [20:46<08:52, 17.75s/it]"
     ]
    },
    {
     "name": "stdout",
     "output_type": "stream",
     "text": [
      "epoch 70/100 | train loss=2.32328, train_acc=0.99927, val loss=2.39686, val_acc=0.92945\n"
     ]
    },
    {
     "name": "stderr",
     "output_type": "stream",
     "text": [
      "\r",
      " 71%|███████   | 71/100 [21:04<08:34, 17.75s/it]"
     ]
    },
    {
     "name": "stdout",
     "output_type": "stream",
     "text": [
      "epoch 71/100 | train loss=2.32321, train_acc=0.99934, val loss=2.38636, val_acc=0.93977\n"
     ]
    },
    {
     "name": "stderr",
     "output_type": "stream",
     "text": [
      "\r",
      " 72%|███████▏  | 72/100 [21:21<08:16, 17.72s/it]"
     ]
    },
    {
     "name": "stdout",
     "output_type": "stream",
     "text": [
      "epoch 72/100 | train loss=2.32246, train_acc=0.99993, val loss=2.38240, val_acc=0.94255\n"
     ]
    },
    {
     "name": "stderr",
     "output_type": "stream",
     "text": [
      "\r",
      " 73%|███████▎  | 73/100 [21:39<07:58, 17.74s/it]"
     ]
    },
    {
     "name": "stdout",
     "output_type": "stream",
     "text": [
      "epoch 73/100 | train loss=2.32329, train_acc=0.99945, val loss=2.39725, val_acc=0.93238\n"
     ]
    },
    {
     "name": "stderr",
     "output_type": "stream",
     "text": [
      "\r",
      " 74%|███████▍  | 74/100 [21:57<07:41, 17.75s/it]"
     ]
    },
    {
     "name": "stdout",
     "output_type": "stream",
     "text": [
      "epoch 74/100 | train loss=2.32975, train_acc=0.99435, val loss=2.40407, val_acc=0.92066\n"
     ]
    },
    {
     "name": "stderr",
     "output_type": "stream",
     "text": [
      "\r",
      " 75%|███████▌  | 75/100 [22:15<07:24, 17.76s/it]"
     ]
    },
    {
     "name": "stdout",
     "output_type": "stream",
     "text": [
      "epoch 75/100 | train loss=2.32537, train_acc=0.99771, val loss=2.38140, val_acc=0.94632\n"
     ]
    },
    {
     "name": "stderr",
     "output_type": "stream",
     "text": [
      "\r",
      " 76%|███████▌  | 76/100 [22:33<07:06, 17.77s/it]"
     ]
    },
    {
     "name": "stdout",
     "output_type": "stream",
     "text": [
      "epoch 76/100 | train loss=2.32258, train_acc=0.99989, val loss=2.38008, val_acc=0.94911\n"
     ]
    },
    {
     "name": "stderr",
     "output_type": "stream",
     "text": [
      "\r",
      " 77%|███████▋  | 77/100 [22:50<06:48, 17.78s/it]"
     ]
    },
    {
     "name": "stdout",
     "output_type": "stream",
     "text": [
      "epoch 77/100 | train loss=2.32266, train_acc=0.99975, val loss=2.40384, val_acc=0.92011\n"
     ]
    },
    {
     "name": "stderr",
     "output_type": "stream",
     "text": [
      "\r",
      " 78%|███████▊  | 78/100 [23:08<06:30, 17.77s/it]"
     ]
    },
    {
     "name": "stdout",
     "output_type": "stream",
     "text": [
      "epoch 78/100 | train loss=2.32857, train_acc=0.99552, val loss=2.38717, val_acc=0.94228\n"
     ]
    },
    {
     "name": "stderr",
     "output_type": "stream",
     "text": [
      "\r",
      " 79%|███████▉  | 79/100 [23:26<06:12, 17.74s/it]"
     ]
    },
    {
     "name": "stdout",
     "output_type": "stream",
     "text": [
      "epoch 79/100 | train loss=2.32464, train_acc=0.99832, val loss=2.38126, val_acc=0.94395\n"
     ]
    },
    {
     "name": "stderr",
     "output_type": "stream",
     "text": [
      "\r",
      " 80%|████████  | 80/100 [23:44<05:55, 17.76s/it]"
     ]
    },
    {
     "name": "stdout",
     "output_type": "stream",
     "text": [
      "epoch 80/100 | train loss=2.32248, train_acc=0.99996, val loss=2.38980, val_acc=0.93307\n"
     ]
    },
    {
     "name": "stderr",
     "output_type": "stream",
     "text": [
      "\r",
      " 81%|████████  | 81/100 [24:01<05:37, 17.76s/it]"
     ]
    },
    {
     "name": "stdout",
     "output_type": "stream",
     "text": [
      "epoch 81/100 | train loss=2.32920, train_acc=0.99479, val loss=2.39094, val_acc=0.93963\n"
     ]
    },
    {
     "name": "stderr",
     "output_type": "stream",
     "text": [
      "\r",
      " 82%|████████▏ | 82/100 [24:19<05:18, 17.72s/it]"
     ]
    },
    {
     "name": "stdout",
     "output_type": "stream",
     "text": [
      "epoch 82/100 | train loss=2.32456, train_acc=0.99843, val loss=2.39066, val_acc=0.93907\n"
     ]
    },
    {
     "name": "stderr",
     "output_type": "stream",
     "text": [
      "\r",
      " 83%|████████▎ | 83/100 [24:37<05:01, 17.73s/it]"
     ]
    },
    {
     "name": "stdout",
     "output_type": "stream",
     "text": [
      "epoch 83/100 | train loss=2.32242, train_acc=0.99993, val loss=2.38682, val_acc=0.93837\n"
     ]
    },
    {
     "name": "stderr",
     "output_type": "stream",
     "text": [
      "\r",
      " 84%|████████▍ | 84/100 [24:55<04:44, 17.75s/it]"
     ]
    },
    {
     "name": "stdout",
     "output_type": "stream",
     "text": [
      "epoch 84/100 | train loss=2.32238, train_acc=0.99996, val loss=2.38349, val_acc=0.93921\n"
     ]
    },
    {
     "name": "stderr",
     "output_type": "stream",
     "text": [
      "\r",
      " 85%|████████▌ | 85/100 [25:12<04:25, 17.71s/it]"
     ]
    },
    {
     "name": "stdout",
     "output_type": "stream",
     "text": [
      "epoch 85/100 | train loss=2.32382, train_acc=0.99894, val loss=2.41848, val_acc=0.91299\n"
     ]
    },
    {
     "name": "stderr",
     "output_type": "stream",
     "text": [
      "\r",
      " 86%|████████▌ | 86/100 [25:30<04:08, 17.74s/it]"
     ]
    },
    {
     "name": "stdout",
     "output_type": "stream",
     "text": [
      "epoch 86/100 | train loss=2.32841, train_acc=0.99552, val loss=2.41885, val_acc=0.90951\n"
     ]
    },
    {
     "name": "stderr",
     "output_type": "stream",
     "text": [
      "\r",
      " 87%|████████▋ | 87/100 [25:48<03:50, 17.75s/it]"
     ]
    },
    {
     "name": "stdout",
     "output_type": "stream",
     "text": [
      "epoch 87/100 | train loss=2.32369, train_acc=0.99902, val loss=2.39711, val_acc=0.92736\n"
     ]
    },
    {
     "name": "stderr",
     "output_type": "stream",
     "text": [
      "\r",
      " 88%|████████▊ | 88/100 [26:06<03:33, 17.76s/it]"
     ]
    },
    {
     "name": "stdout",
     "output_type": "stream",
     "text": [
      "epoch 88/100 | train loss=2.32259, train_acc=0.99985, val loss=2.38603, val_acc=0.93586\n"
     ]
    },
    {
     "name": "stderr",
     "output_type": "stream",
     "text": [
      "\r",
      " 89%|████████▉ | 89/100 [26:23<03:15, 17.77s/it]"
     ]
    },
    {
     "name": "stdout",
     "output_type": "stream",
     "text": [
      "epoch 89/100 | train loss=2.32267, train_acc=0.99975, val loss=2.38662, val_acc=0.94060\n"
     ]
    },
    {
     "name": "stderr",
     "output_type": "stream",
     "text": [
      "\r",
      " 90%|█████████ | 90/100 [26:41<02:57, 17.78s/it]"
     ]
    },
    {
     "name": "stdout",
     "output_type": "stream",
     "text": [
      "epoch 90/100 | train loss=2.32619, train_acc=0.99712, val loss=2.41558, val_acc=0.91369\n"
     ]
    },
    {
     "name": "stderr",
     "output_type": "stream",
     "text": [
      "\r",
      " 91%|█████████ | 91/100 [26:59<02:39, 17.77s/it]"
     ]
    },
    {
     "name": "stdout",
     "output_type": "stream",
     "text": [
      "epoch 91/100 | train loss=2.32747, train_acc=0.99581, val loss=2.40954, val_acc=0.91718\n"
     ]
    },
    {
     "name": "stderr",
     "output_type": "stream",
     "text": [
      "\r",
      " 92%|█████████▏| 92/100 [27:17<02:22, 17.78s/it]"
     ]
    },
    {
     "name": "stdout",
     "output_type": "stream",
     "text": [
      "epoch 92/100 | train loss=2.32556, train_acc=0.99749, val loss=2.42670, val_acc=0.90310\n"
     ]
    },
    {
     "name": "stderr",
     "output_type": "stream",
     "text": [
      "\r",
      " 93%|█████████▎| 93/100 [27:35<02:04, 17.80s/it]"
     ]
    },
    {
     "name": "stdout",
     "output_type": "stream",
     "text": [
      "epoch 93/100 | train loss=2.32422, train_acc=0.99869, val loss=2.40988, val_acc=0.91634\n"
     ]
    },
    {
     "name": "stderr",
     "output_type": "stream",
     "text": [
      "\r",
      " 94%|█████████▍| 94/100 [27:52<01:46, 17.80s/it]"
     ]
    },
    {
     "name": "stdout",
     "output_type": "stream",
     "text": [
      "epoch 94/100 | train loss=2.32364, train_acc=0.99902, val loss=2.38530, val_acc=0.94297\n"
     ]
    },
    {
     "name": "stderr",
     "output_type": "stream",
     "text": [
      "\r",
      " 95%|█████████▌| 95/100 [28:10<01:29, 17.80s/it]"
     ]
    },
    {
     "name": "stdout",
     "output_type": "stream",
     "text": [
      "epoch 95/100 | train loss=2.32332, train_acc=0.99942, val loss=2.43554, val_acc=0.89640\n"
     ]
    },
    {
     "name": "stderr",
     "output_type": "stream",
     "text": [
      "\r",
      " 96%|█████████▌| 96/100 [28:28<01:11, 17.79s/it]"
     ]
    },
    {
     "name": "stdout",
     "output_type": "stream",
     "text": [
      "epoch 96/100 | train loss=2.32581, train_acc=0.99767, val loss=2.38816, val_acc=0.93837\n"
     ]
    },
    {
     "name": "stderr",
     "output_type": "stream",
     "text": [
      "\r",
      " 97%|█████████▋| 97/100 [28:46<00:53, 17.80s/it]"
     ]
    },
    {
     "name": "stdout",
     "output_type": "stream",
     "text": [
      "epoch 97/100 | train loss=2.32352, train_acc=0.99913, val loss=2.40162, val_acc=0.92359\n"
     ]
    },
    {
     "name": "stderr",
     "output_type": "stream",
     "text": [
      "\r",
      " 98%|█████████▊| 98/100 [29:04<00:35, 17.79s/it]"
     ]
    },
    {
     "name": "stdout",
     "output_type": "stream",
     "text": [
      "epoch 98/100 | train loss=2.32391, train_acc=0.99898, val loss=2.38230, val_acc=0.94283\n"
     ]
    },
    {
     "name": "stderr",
     "output_type": "stream",
     "text": [
      "\r",
      " 99%|█████████▉| 99/100 [29:21<00:17, 17.79s/it]"
     ]
    },
    {
     "name": "stdout",
     "output_type": "stream",
     "text": [
      "epoch 99/100 | train loss=2.32255, train_acc=0.99989, val loss=2.38180, val_acc=0.94451\n"
     ]
    },
    {
     "name": "stderr",
     "output_type": "stream",
     "text": [
      "100%|██████████| 100/100 [29:39<00:00, 17.80s/it]"
     ]
    },
    {
     "name": "stdout",
     "output_type": "stream",
     "text": [
      "epoch 100/100 | train loss=2.32248, train_acc=0.99996, val loss=2.38813, val_acc=0.93600\n"
     ]
    },
    {
     "name": "stderr",
     "output_type": "stream",
     "text": [
      "\n"
     ]
    }
   ],
   "source": [
    "# model = ASL_Model(len(train_set.classes)).to(device)\n",
    "epochs = 100\n",
    "learning_rate = 0.0001\n",
    "weight_decay = 0.001\n",
    "loss_fn = nn.CrossEntropyLoss()\n",
    "optimizer = torch.optim.Adam(model.parameters(), lr = learning_rate, weight_decay = weight_decay)\n",
    "training_losses = []\n",
    "val_losses = []\n",
    "\n",
    "\n",
    "for epoch in tqdm(range(epochs)):\n",
    "    train_loss, train_acc = train_model(model, train_loader, loss_fn, optimizer)\n",
    "    val_loss, val_acc = evaluate_model(model, test_loader, loss_fn)\n",
    "    training_losses.append(train_loss)\n",
    "    val_losses.append(val_loss)\n",
    "    print(f\"epoch {epoch+1}/{epochs} | train loss={np.mean(train_loss):.5f}, {train_acc=:.5f}, val loss={np.mean(val_loss):.5f}, {val_acc=:.5f}\")"
   ]
  },
  {
   "cell_type": "code",
   "execution_count": 35,
   "id": "a6efcb17",
   "metadata": {},
   "outputs": [],
   "source": [
    "model_path = os.path.join(\"C:/Users/Chem's bbi/Downloads/ASL-Sign-Language\", \"model\"+\".pth\")\n",
    "torch.save(model.state_dict(), model_path)"
   ]
  },
  {
   "cell_type": "code",
   "execution_count": null,
   "id": "3edb7915",
   "metadata": {},
   "outputs": [],
   "source": []
  },
  {
   "cell_type": "code",
   "execution_count": null,
   "id": "6b8f60cf",
   "metadata": {},
   "outputs": [],
   "source": []
  }
 ],
 "metadata": {
  "kernelspec": {
   "display_name": "Python 3 (ipykernel)",
   "language": "python",
   "name": "python3"
  },
  "language_info": {
   "codemirror_mode": {
    "name": "ipython",
    "version": 3
   },
   "file_extension": ".py",
   "mimetype": "text/x-python",
   "name": "python",
   "nbconvert_exporter": "python",
   "pygments_lexer": "ipython3",
   "version": "3.11.7"
  }
 },
 "nbformat": 4,
 "nbformat_minor": 5
}
